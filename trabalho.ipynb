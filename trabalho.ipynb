{
 "cells": [
  {
   "cell_type": "markdown",
   "metadata": {},
   "source": [
    "## Trabalho Computacional\n",
    "_Professor: Marcos Rogério Fernandes_\n",
    "\n",
    "Esse trabalho tem como objetivo representar a convolução de duas funções em gráficos animados. Alguns exemplos foram retirados de aulas da matéria de Sinais e Sistemas, enquanto outros foram escolhidos pelos estudantes.\n",
    "Para a elaboração do projeto, nos baseamos em códigos de terceiros, fazendo as devidas adaptações para o contexto da disciplina. [Fontes](#Fontes)"
   ]
  },
  {
   "cell_type": "code",
   "execution_count": 1,
   "metadata": {},
   "outputs": [],
   "source": [
    "import matplotlib.pyplot as plt\n",
    "import numpy as np\n",
    "import sympy as sp\n",
    "import utils\n",
    "import IPython\n",
    "\n",
    "plt.rcParams['figure.figsize'] = 8, 6\n",
    "plt.rcParams['legend.fontsize'] = 13\n",
    "plt.rcParams['lines.linewidth'] = 2\n",
    "plt.rcParams['axes.grid'] = False"
   ]
  },
  {
   "cell_type": "markdown",
   "metadata": {},
   "source": [
    "Definir a variável a ser usada (nesse caso, escolheu-se t)"
   ]
  },
  {
   "cell_type": "code",
   "execution_count": 2,
   "metadata": {},
   "outputs": [],
   "source": [
    "t=sp.symbols('t', real=True)"
   ]
  },
  {
   "cell_type": "code",
   "execution_count": 3,
   "metadata": {},
   "outputs": [],
   "source": [
    "def plotFunctions(h,g):\n",
    "    interval = np.arange(-10, 10, 0.01)\n",
    "    utils.symplot(t, [h, g], interval, ['h(t)','g(t)'])\n",
    "def writeFunctions(h,g):\n",
    "    utils.symdisp('h(t) = ', utils.round_expr(h,2))\n",
    "    utils.symdisp('g(t) = ', utils.round_expr(g,2))\n",
    "def plotConvolution(h, g, ti, tf, τ_max, figName):\n",
    "    t=sp.symbols('t', real=True)\n",
    "    delay = np.arange(-τ_max, τ_max, 0.01) \n",
    "    utils.genConvGIF(h, g, t, delay, ti, tf,\\\n",
    "            figName, xlabel= 'τ[s]', ylabel=['g(τ)', 'h(t-τ)','c(t)'],\\\n",
    "            fram=50, inter=150, plotConv=True)"
   ]
  },
  {
   "cell_type": "markdown",
   "metadata": {},
   "source": [
    "### Exemplo 1 \n",
    "(https://marofe.github.io/sinais-sistemas/2024/SEL0604/aula3.html#/49, slide 50)"
   ]
  },
  {
   "cell_type": "markdown",
   "metadata": {},
   "source": [
    "Definir as funções"
   ]
  },
  {
   "cell_type": "code",
   "execution_count": 4,
   "metadata": {},
   "outputs": [
    {
     "data": {
      "text/latex": [
       "$\\displaystyle h(t) = \\begin{cases} t & \\text{for}\\: t > 0 \\wedge t < 2 \\\\0 & \\text{otherwise} \\end{cases}\\;\\mathrm{ }$"
      ],
      "text/plain": [
       "<IPython.core.display.Math object>"
      ]
     },
     "metadata": {},
     "output_type": "display_data"
    },
    {
     "data": {
      "text/latex": [
       "$\\displaystyle g(t) = \\begin{cases} 1 & \\text{for}\\: t > -1 \\wedge t < 1 \\\\0 & \\text{for}\\: t > 1 \\vee t < -1 \\end{cases}\\;\\mathrm{ }$"
      ],
      "text/plain": [
       "<IPython.core.display.Math object>"
      ]
     },
     "metadata": {},
     "output_type": "display_data"
    }
   ],
   "source": [
    "h = sp.Piecewise((2, (t==2)), \n",
    "                 (t, (t>0)&(t<2)),\n",
    "                 (0, (t!=2)|(t>2)|(t<0)))\n",
    "\n",
    "g = sp.Piecewise((1, (t>-1)&(t<1)),                   \n",
    "                 (0, (t<-1)|(t>1)))\n",
    "\n",
    "writeFunctions(h,g)"
   ]
  },
  {
   "cell_type": "markdown",
   "metadata": {},
   "source": [
    "Definir o intervalo de análise e visualizar as funções no intervalo"
   ]
  },
  {
   "cell_type": "code",
   "execution_count": 5,
   "metadata": {},
   "outputs": [],
   "source": [
    "plotFunctions(h,g)"
   ]
  },
  {
   "cell_type": "markdown",
   "metadata": {},
   "source": [
    "Resultado da convolução: $c(t) = g(t)\\ast h(t) =\\int_{-\\infty}^{\\infty} g(\\tau) h(t-\\tau) d\\tau$"
   ]
  },
  {
   "cell_type": "code",
   "execution_count": null,
   "metadata": {},
   "outputs": [],
   "source": [
    "figName  = 'convolutionFig1.gif'\n",
    "plotConvolution(h=h, g=g, ti=-10, tf=10, τ_max=10, figName=figName)"
   ]
  },
  {
   "cell_type": "markdown",
   "metadata": {},
   "source": [
    "![MyGif](convolutionFig1.gif \"segment\")"
   ]
  },
  {
   "cell_type": "markdown",
   "metadata": {},
   "source": [
    "### Exemplo 2\n",
    "(https://marofe.github.io/sinais-sistemas/2024/SEL0604/aula3.html#/49, slide 63)"
   ]
  },
  {
   "cell_type": "markdown",
   "metadata": {},
   "source": [
    "Definir as funções"
   ]
  },
  {
   "cell_type": "code",
   "execution_count": null,
   "metadata": {},
   "outputs": [
    {
     "data": {
      "text/latex": [
       "$\\displaystyle h(t) = \\begin{cases} 0 & \\text{for}\\: t < 0 \\\\e^{- t} & \\text{for}\\: t > 0 \\end{cases}\\;\\mathrm{ }$"
      ],
      "text/plain": [
       "<IPython.core.display.Math object>"
      ]
     },
     "metadata": {},
     "output_type": "display_data"
    },
    {
     "data": {
      "text/latex": [
       "$\\displaystyle g(t) = \\begin{cases} 1 & \\text{for}\\: t > -1 \\wedge t < 1 \\\\0 & \\text{for}\\: t > 1 \\vee t < -1 \\end{cases}\\;\\mathrm{ }$"
      ],
      "text/plain": [
       "<IPython.core.display.Math object>"
      ]
     },
     "metadata": {},
     "output_type": "display_data"
    }
   ],
   "source": [
    "h = sp.Piecewise((0, t<0),\n",
    "                 (sp.exp(-t), t>0))\n",
    "\n",
    "g = sp.Piecewise((1, (t>-1)&(t<1)),                   \n",
    "                 (0, (t<-1)|(t>1)))\n",
    "\n",
    "writeFunctions(h,g)"
   ]
  },
  {
   "cell_type": "markdown",
   "metadata": {},
   "source": [
    "Definir o intervalo de análise e visualizar as funções no intervalo"
   ]
  },
  {
   "cell_type": "code",
   "execution_count": null,
   "metadata": {},
   "outputs": [],
   "source": [
    "plotFunctions(h,g)"
   ]
  },
  {
   "cell_type": "markdown",
   "metadata": {},
   "source": [
    "Resultado da convolução: $c(t) = g(t)\\ast h(t) =\\int_{-\\infty}^{\\infty} g(\\tau) h(t-\\tau) d\\tau$"
   ]
  },
  {
   "cell_type": "code",
   "execution_count": null,
   "metadata": {},
   "outputs": [
    {
     "name": "stderr",
     "output_type": "stream",
     "text": [
      "MovieWriter imagemagick unavailable; using Pillow instead.\n"
     ]
    }
   ],
   "source": [
    "figName  = 'convolutionFig2.gif'\n",
    "plotConvolution(h=h, g=g, ti=-10, tf=10, τ_max=10, figName=figName)"
   ]
  },
  {
   "cell_type": "markdown",
   "metadata": {},
   "source": [
    "![MyGif](convolutionFig2.gif \"segment\")"
   ]
  },
  {
   "cell_type": "markdown",
   "metadata": {},
   "source": [
    "### Fontes:\n",
    "https://colab.research.google.com/github/edsonportosilva/ElectricCircuits/blob/master/Jupyter%20notebooks/Visualize%20convolution.ipynb\n"
   ]
  }
 ],
 "metadata": {
  "kernelspec": {
   "display_name": "Python 3",
   "language": "python",
   "name": "python3"
  },
  "language_info": {
   "codemirror_mode": {
    "name": "ipython",
    "version": 3
   },
   "file_extension": ".py",
   "mimetype": "text/x-python",
   "name": "python",
   "nbconvert_exporter": "python",
   "pygments_lexer": "ipython3",
   "version": "3.12.7"
  }
 },
 "nbformat": 4,
 "nbformat_minor": 2
}
